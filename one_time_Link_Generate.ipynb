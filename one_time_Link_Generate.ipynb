{
  "nbformat": 4,
  "nbformat_minor": 0,
  "metadata": {
    "colab": {
      "provenance": [],
      "authorship_tag": "ABX9TyM//eaJsNHyEH5J8IPvVv+7",
      "include_colab_link": true
    },
    "kernelspec": {
      "name": "python3",
      "display_name": "Python 3"
    },
    "language_info": {
      "name": "python"
    }
  },
  "cells": [
    {
      "cell_type": "markdown",
      "metadata": {
        "id": "view-in-github",
        "colab_type": "text"
      },
      "source": [
        "<a href=\"https://colab.research.google.com/github/GUNDESANDEEP/AWS-Lambda-inOne-Time-Encrypted-Link-Generator/blob/main/one_time_Link_Generate.ipynb\" target=\"_parent\"><img src=\"https://colab.research.google.com/assets/colab-badge.svg\" alt=\"Open In Colab\"/></a>"
      ]
    },
    {
      "cell_type": "code",
      "execution_count": 4,
      "metadata": {
        "id": "8Tnu-zKMp41D"
      },
      "outputs": [],
      "source": [
        "# Imports\n",
        "import base64\n",
        "import uuid\n",
        "from cryptography.fernet import Fernet\n",
        "\n",
        "# Generate a key (in real apps, store securely)\n",
        "key = Fernet.generate_key()\n",
        "fernet = Fernet(key)\n",
        "\n",
        "# Simulate backend DB (in-memory dict)\n",
        "storage = {}\n",
        "\n",
        "# Function to generate encrypted one-time link\n",
        "def generate_one_time_link(message):\n",
        "    encrypted_msg = fernet.encrypt(message.encode()).decode()\n",
        "    unique_id = str(uuid.uuid4())\n",
        "    storage[unique_id] = encrypted_msg\n",
        "    return f\"https://securelink.fake/{unique_id}\"\n",
        "\n",
        "# Function to view/decrypt message (one-time use)\n",
        "def access_message(link_id):\n",
        "    if link_id in storage:\n",
        "        decrypted = fernet.decrypt(storage[link_id].encode()).decode()\n",
        "        del storage[link_id]  # one-time access: delete after view\n",
        "        return f\" Message: {decrypted}\"\n",
        "    else:\n",
        "        return \" This link has expired or does not exist.\"\n"
      ]
    },
    {
      "cell_type": "code",
      "source": [
        "# Simulate user input\n",
        "message = input(\"Enter your secret message: \")\n",
        "generated_link = generate_one_time_link(message)\n",
        "\n",
        "# Display output like a frontend\n",
        "print(\"\\n✅ Your one-time secure link is:\")\n",
        "print(generated_link)\n"
      ],
      "metadata": {
        "colab": {
          "base_uri": "https://localhost:8080/"
        },
        "id": "8CiCdRQ3qMpz",
        "outputId": "3d17ec8b-796a-4e22-fad5-4e78cc2aa4ef"
      },
      "execution_count": 2,
      "outputs": [
        {
          "output_type": "stream",
          "name": "stdout",
          "text": [
            "Enter your secret message: hello ishu it' my LP pass:sandy\n",
            "\n",
            "✅ Your one-time secure link is:\n",
            "https://securelink.fake/a27881fc-c9ec-4d64-8673-a69b8a4b2465\n"
          ]
        }
      ]
    },
    {
      "cell_type": "code",
      "source": [
        "# Simulate accessing the message\n",
        "link_id = generated_link.split(\"/\")[-1]\n",
        "print(\"\\n Accessing the secure message...\")\n",
        "print(access_message(link_id))\n",
        "\n",
        "# Try again (should show expired message)\n",
        "print(\"\\n Trying to reuse the same link...\")\n",
        "print(access_message(link_id))\n"
      ],
      "metadata": {
        "colab": {
          "base_uri": "https://localhost:8080/"
        },
        "id": "ZVumRDLQqlRF",
        "outputId": "a2503e13-726e-4ee8-efc1-a28cb56adeb2"
      },
      "execution_count": 5,
      "outputs": [
        {
          "output_type": "stream",
          "name": "stdout",
          "text": [
            "\n",
            " Accessing the secure message...\n",
            " This link has expired or does not exist.\n",
            "\n",
            " Trying to reuse the same link...\n",
            " This link has expired or does not exist.\n"
          ]
        }
      ]
    },
    {
      "cell_type": "code",
      "source": [],
      "metadata": {
        "id": "qpkXOGFdq7cP"
      },
      "execution_count": null,
      "outputs": []
    }
  ]
}