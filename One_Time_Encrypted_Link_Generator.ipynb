{
  "nbformat": 4,
  "nbformat_minor": 0,
  "metadata": {
    "colab": {
      "provenance": [],
      "authorship_tag": "ABX9TyMRsI4CKfMvpHtALmF4DERV",
      "include_colab_link": true
    },
    "kernelspec": {
      "name": "python3",
      "display_name": "Python 3"
    },
    "language_info": {
      "name": "python"
    }
  },
  "cells": [
    {
      "cell_type": "markdown",
      "metadata": {
        "id": "view-in-github",
        "colab_type": "text"
      },
      "source": [
        "<a href=\"https://colab.research.google.com/github/GUNDESANDEEP/AWS-Lambda-inOne-Time-Encrypted-Link-Generator/blob/main/One_Time_Encrypted_Link_Generator.ipynb\" target=\"_parent\"><img src=\"https://colab.research.google.com/assets/colab-badge.svg\" alt=\"Open In Colab\"/></a>"
      ]
    },
    {
      "cell_type": "code",
      "source": [
        "# Step 1: Import Required Modules\n",
        "import uuid\n",
        "import time\n",
        "from cryptography.fernet import Fernet\n",
        "from typing import Dict, Optional"
      ],
      "metadata": {
        "id": "eD-nKQG_1gCd"
      },
      "execution_count": 3,
      "outputs": []
    },
    {
      "cell_type": "code",
      "source": [
        "# Step 2: Initialize Encryption System\n",
        "print(\"🔐 Generating secure encryption key...\")\n",
        "encryption_key = Fernet.generate_key()\n",
        "cipher = Fernet(encryption_key)"
      ],
      "metadata": {
        "colab": {
          "base_uri": "https://localhost:8080/"
        },
        "id": "zH-VzM571juv",
        "outputId": "6d3b170e-3d86-49f1-bc05-527a2a76cf4a"
      },
      "execution_count": 4,
      "outputs": [
        {
          "output_type": "stream",
          "name": "stdout",
          "text": [
            "🔐 Generating secure encryption key...\n"
          ]
        }
      ]
    },
    {
      "cell_type": "code",
      "source": [
        "# Step 3: In-memory \"database\" to simulate DynamoDB\n",
        "secure_db: Dict[str, Dict] = {}"
      ],
      "metadata": {
        "id": "bA6Kh_c61oh_"
      },
      "execution_count": 5,
      "outputs": []
    },
    {
      "cell_type": "code",
      "source": [
        "# Step 4: Secure Link Creation\n",
        "def create_secure_link(message: str, expiry_seconds: int = 300) -> str:\n",
        "    encrypted = cipher.encrypt(message.encode())\n",
        "    link_id = str(uuid.uuid4())\n",
        "\n",
        "    secure_db[link_id] = {\n",
        "        \"encrypted_data\": encrypted,\n",
        "        \"used\": False,\n",
        "        \"created_at\": time.time(),\n",
        "        \"expiry\": expiry_seconds\n",
        "    }\n",
        "\n",
        "    fake_url = f\"https://securelink.fake/{link_id}\"\n",
        "    return fake_url"
      ],
      "metadata": {
        "id": "SEOMEl5I1tKn"
      },
      "execution_count": 6,
      "outputs": []
    },
    {
      "cell_type": "code",
      "source": [
        "# Step 5: Secure Link Access\n",
        "def access_secure_link(link_id: str) -> str:\n",
        "    entry = secure_db.get(link_id)\n",
        "\n",
        "    if entry is None:\n",
        "        return \"❌ Error: Invalid or expired link.\"\n",
        "\n",
        "    if entry[\"used\"]:\n",
        "        return \"⚠️ This link has already been used and cannot be accessed again.\"\n",
        "\n",
        "    current_time = time.time()\n",
        "    time_elapsed = current_time - entry[\"created_at\"]\n",
        "\n",
        "    if time_elapsed > entry[\"expiry\"]:\n",
        "        del secure_db[link_id]\n",
        "        return \"⏰ This link has expired.\"\n",
        "\n",
        "    # Decrypt and return message\n",
        "    decrypted = cipher.decrypt(entry[\"encrypted_data\"]).decode()\n",
        "    entry[\"used\"] = True\n",
        "    return f\"✅ Decrypted Message: {decrypted}\""
      ],
      "metadata": {
        "id": "eVr6lTiq11T9"
      },
      "execution_count": 7,
      "outputs": []
    },
    {
      "cell_type": "code",
      "source": [
        "# Step 6: Admin View (For Debugging)\n",
        "def list_all_links():\n",
        "    print(\"\\n📂 Secure Link Database (Admin View):\")\n",
        "    for link_id, info in secure_db.items():\n",
        "        print(f\"- ID: {link_id}\")\n",
        "        print(f\"  Used: {info['used']}\")\n",
        "        print(f\"  Expires In: {max(0, int(info['expiry'] - (time.time() - info['created_at'])))} seconds\")\n",
        "        print()"
      ],
      "metadata": {
        "id": "ud5wk9U8181W"
      },
      "execution_count": 8,
      "outputs": []
    },
    {
      "cell_type": "code",
      "source": [
        "print(\"\\n✅ Demo: Creating a secure one-time link...\")\n",
        "link = create_secure_link(\"Top Secret: Hackathon access code = X92-XYZ\", expiry_seconds=120)\n",
        "print(\"🔗 Generated Link:\", link)\n",
        "\n",
        "link_id = link.split(\"/\")[-1]\n",
        "\n",
        "# Accessing first time\n",
        "print(\"\\n➡️ First access:\")\n",
        "print(access_secure_link(link_id))\n",
        "\n",
        "# Trying second access\n",
        "print(\"\\n❌ Second access:\")\n",
        "print(access_secure_link(link_id))\n",
        "\n",
        "# Check DB Status\n",
        "list_all_links()\n",
        "\n",
        "# -------------------------------\n",
        "# DEMO 2: Expiry Simulation\n",
        "# -------------------------------\n",
        "print(\"\\n✅ Demo 2: Simulating expiry...\")\n",
        "\n",
        "# New Link with short expiry\n",
        "short_link = create_secure_link(\"Self-destruct message: Goodbye!\", expiry_seconds=3)\n",
        "short_link_id = short_link.split(\"/\")[-1]\n",
        "print(\"🔗 Short-Lived Link:\", short_link)\n",
        "\n",
        "print(\"\\n⏳ Waiting for 5 seconds...\")\n",
        "time.sleep(5)\n",
        "\n",
        "print(\"➡️ Access after expiry:\")\n",
        "print(access_secure_link(short_link_id))"
      ],
      "metadata": {
        "colab": {
          "base_uri": "https://localhost:8080/"
        },
        "id": "Zzmr4io32EzN",
        "outputId": "3f859a58-e7fa-4396-9d32-4728296e3799"
      },
      "execution_count": 9,
      "outputs": [
        {
          "output_type": "stream",
          "name": "stdout",
          "text": [
            "\n",
            "✅ Demo: Creating a secure one-time link...\n",
            "🔗 Generated Link: https://securelink.fake/847d3574-b22b-4d9e-b9a4-8a51a097cd6c\n",
            "\n",
            "➡️ First access:\n",
            "✅ Decrypted Message: Top Secret: Hackathon access code = X92-XYZ\n",
            "\n",
            "❌ Second access:\n",
            "⚠️ This link has already been used and cannot be accessed again.\n",
            "\n",
            "📂 Secure Link Database (Admin View):\n",
            "- ID: 847d3574-b22b-4d9e-b9a4-8a51a097cd6c\n",
            "  Used: True\n",
            "  Expires In: 119 seconds\n",
            "\n",
            "\n",
            "✅ Demo 2: Simulating expiry...\n",
            "🔗 Short-Lived Link: https://securelink.fake/9ffde83e-34ff-464e-8694-4d2509163458\n",
            "\n",
            "⏳ Waiting for 5 seconds...\n",
            "➡️ Access after expiry:\n",
            "⏰ This link has expired.\n"
          ]
        }
      ]
    }
  ]
}